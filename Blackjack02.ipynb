{
 "cells": [
  {
   "cell_type": "code",
   "execution_count": 1,
   "metadata": {},
   "outputs": [],
   "source": [
    "import random\n",
    "class Deck:\n",
    "    def __init__(self):\n",
    "        dok = [\"♣\",\"♠\",\"♥\",\"♦\"]\n",
    "        number =[\"A\",\"2\",\"3\",\"4\",\"5\",\"6\",\"7\",\"8\",\"9\",\"10\",\"J\",\"Q\",\"K\"]\n",
    "        for i in range(4):\n",
    "            for o in range(13):\n",
    "                self.i,o=dok[i]+number[o]"
   ]
  },
  {
   "cell_type": "code",
   "execution_count": null,
   "metadata": {},
   "outputs": [],
   "source": [
    "class Draw:\n",
    "    "
   ]
  }
 ],
 "metadata": {
  "interpreter": {
   "hash": "1affce5bcb0902aa79f0ae3e03f317ad507cfeb470f66d465c52e93bac5288bd"
  },
  "kernelspec": {
   "display_name": "Python 3.6.3 32-bit ('linkenv': venv)",
   "name": "python3"
  },
  "language_info": {
   "codemirror_mode": {
    "name": "ipython",
    "version": 3
   },
   "file_extension": ".py",
   "mimetype": "text/x-python",
   "name": "python",
   "nbconvert_exporter": "python",
   "pygments_lexer": "ipython3",
   "version": "3.6.3"
  },
  "orig_nbformat": 4
 },
 "nbformat": 4,
 "nbformat_minor": 2
}
